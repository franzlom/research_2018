{
 "cells": [
  {
   "cell_type": "code",
   "execution_count": 1,
   "metadata": {
    "collapsed": true
   },
   "outputs": [],
   "source": [
    "# import libraries\n",
    "# pd is the way im going to read the DB\n",
    "import pandas as pd\n",
    "import sqlite3 as sq\n",
    "import numpy as np"
   ]
  },
  {
   "cell_type": "code",
   "execution_count": 2,
   "metadata": {},
   "outputs": [],
   "source": [
    "# connecting to the DB\n",
    "dat = sq.connect('./data/MotionGesture.db')"
   ]
  },
  {
   "cell_type": "code",
   "execution_count": 3,
   "metadata": {
    "collapsed": true
   },
   "outputs": [
    {
     "ename": "DatabaseError",
     "evalue": "Execution failed on sql 'SELECT * From GestureTable': no such table: GestureTable",
     "traceback": [
      "\u001b[1;31m---------------------------------------------------------------------------\u001b[0m",
      "\u001b[1;31mOperationalError\u001b[0m                          Traceback (most recent call last)",
      "\u001b[1;32mC:\\Anaconda\\lib\\site-packages\\pandas\\io\\sql.py\u001b[0m in \u001b[0;36mexecute\u001b[1;34m(self, *args, **kwargs)\u001b[0m\n\u001b[0;32m   1403\u001b[0m             \u001b[1;32melse\u001b[0m\u001b[1;33m:\u001b[0m\u001b[1;33m\u001b[0m\u001b[0m\n\u001b[1;32m-> 1404\u001b[1;33m                 \u001b[0mcur\u001b[0m\u001b[1;33m.\u001b[0m\u001b[0mexecute\u001b[0m\u001b[1;33m(\u001b[0m\u001b[1;33m*\u001b[0m\u001b[0margs\u001b[0m\u001b[1;33m)\u001b[0m\u001b[1;33m\u001b[0m\u001b[0m\n\u001b[0m\u001b[0;32m   1405\u001b[0m             \u001b[1;32mreturn\u001b[0m \u001b[0mcur\u001b[0m\u001b[1;33m\u001b[0m\u001b[0m\n",
      "\u001b[1;31mOperationalError\u001b[0m: no such table: GestureTable",
      "\nDuring handling of the above exception, another exception occurred:\n",
      "\u001b[1;31mDatabaseError\u001b[0m                             Traceback (most recent call last)",
      "\u001b[1;32m<ipython-input-3-8986f15aeb12>\u001b[0m in \u001b[0;36m<module>\u001b[1;34m()\u001b[0m\n\u001b[0;32m      1\u001b[0m \u001b[1;31m# turning the DB to Pandas\u001b[0m\u001b[1;33m\u001b[0m\u001b[1;33m\u001b[0m\u001b[0m\n\u001b[1;32m----> 2\u001b[1;33m \u001b[0mdf\u001b[0m \u001b[1;33m=\u001b[0m \u001b[0mpd\u001b[0m\u001b[1;33m.\u001b[0m\u001b[0mread_sql_query\u001b[0m\u001b[1;33m(\u001b[0m\u001b[1;34m\"SELECT * From GestureTable\"\u001b[0m\u001b[1;33m,\u001b[0m \u001b[0mdat\u001b[0m\u001b[1;33m)\u001b[0m\u001b[1;33m\u001b[0m\u001b[0m\n\u001b[0m",
      "\u001b[1;32mC:\\Anaconda\\lib\\site-packages\\pandas\\io\\sql.py\u001b[0m in \u001b[0;36mread_sql_query\u001b[1;34m(sql, con, index_col, coerce_float, params, parse_dates, chunksize)\u001b[0m\n\u001b[0;32m    330\u001b[0m     return pandas_sql.read_query(\n\u001b[0;32m    331\u001b[0m         \u001b[0msql\u001b[0m\u001b[1;33m,\u001b[0m \u001b[0mindex_col\u001b[0m\u001b[1;33m=\u001b[0m\u001b[0mindex_col\u001b[0m\u001b[1;33m,\u001b[0m \u001b[0mparams\u001b[0m\u001b[1;33m=\u001b[0m\u001b[0mparams\u001b[0m\u001b[1;33m,\u001b[0m \u001b[0mcoerce_float\u001b[0m\u001b[1;33m=\u001b[0m\u001b[0mcoerce_float\u001b[0m\u001b[1;33m,\u001b[0m\u001b[1;33m\u001b[0m\u001b[0m\n\u001b[1;32m--> 332\u001b[1;33m         parse_dates=parse_dates, chunksize=chunksize)\n\u001b[0m\u001b[0;32m    333\u001b[0m \u001b[1;33m\u001b[0m\u001b[0m\n\u001b[0;32m    334\u001b[0m \u001b[1;33m\u001b[0m\u001b[0m\n",
      "\u001b[1;32mC:\\Anaconda\\lib\\site-packages\\pandas\\io\\sql.py\u001b[0m in \u001b[0;36mread_query\u001b[1;34m(self, sql, index_col, coerce_float, params, parse_dates, chunksize)\u001b[0m\n\u001b[0;32m   1437\u001b[0m \u001b[1;33m\u001b[0m\u001b[0m\n\u001b[0;32m   1438\u001b[0m         \u001b[0margs\u001b[0m \u001b[1;33m=\u001b[0m \u001b[0m_convert_params\u001b[0m\u001b[1;33m(\u001b[0m\u001b[0msql\u001b[0m\u001b[1;33m,\u001b[0m \u001b[0mparams\u001b[0m\u001b[1;33m)\u001b[0m\u001b[1;33m\u001b[0m\u001b[0m\n\u001b[1;32m-> 1439\u001b[1;33m         \u001b[0mcursor\u001b[0m \u001b[1;33m=\u001b[0m \u001b[0mself\u001b[0m\u001b[1;33m.\u001b[0m\u001b[0mexecute\u001b[0m\u001b[1;33m(\u001b[0m\u001b[1;33m*\u001b[0m\u001b[0margs\u001b[0m\u001b[1;33m)\u001b[0m\u001b[1;33m\u001b[0m\u001b[0m\n\u001b[0m\u001b[0;32m   1440\u001b[0m         \u001b[0mcolumns\u001b[0m \u001b[1;33m=\u001b[0m \u001b[1;33m[\u001b[0m\u001b[0mcol_desc\u001b[0m\u001b[1;33m[\u001b[0m\u001b[1;36m0\u001b[0m\u001b[1;33m]\u001b[0m \u001b[1;32mfor\u001b[0m \u001b[0mcol_desc\u001b[0m \u001b[1;32min\u001b[0m \u001b[0mcursor\u001b[0m\u001b[1;33m.\u001b[0m\u001b[0mdescription\u001b[0m\u001b[1;33m]\u001b[0m\u001b[1;33m\u001b[0m\u001b[0m\n\u001b[0;32m   1441\u001b[0m \u001b[1;33m\u001b[0m\u001b[0m\n",
      "\u001b[1;32mC:\\Anaconda\\lib\\site-packages\\pandas\\io\\sql.py\u001b[0m in \u001b[0;36mexecute\u001b[1;34m(self, *args, **kwargs)\u001b[0m\n\u001b[0;32m   1414\u001b[0m             ex = DatabaseError(\n\u001b[0;32m   1415\u001b[0m                 \"Execution failed on sql '%s': %s\" % (args[0], exc))\n\u001b[1;32m-> 1416\u001b[1;33m             \u001b[0mraise_with_traceback\u001b[0m\u001b[1;33m(\u001b[0m\u001b[0mex\u001b[0m\u001b[1;33m)\u001b[0m\u001b[1;33m\u001b[0m\u001b[0m\n\u001b[0m\u001b[0;32m   1417\u001b[0m \u001b[1;33m\u001b[0m\u001b[0m\n\u001b[0;32m   1418\u001b[0m     \u001b[1;33m@\u001b[0m\u001b[0mstaticmethod\u001b[0m\u001b[1;33m\u001b[0m\u001b[0m\n",
      "\u001b[1;32mC:\\Anaconda\\lib\\site-packages\\pandas\\compat\\__init__.py\u001b[0m in \u001b[0;36mraise_with_traceback\u001b[1;34m(exc, traceback)\u001b[0m\n\u001b[0;32m    342\u001b[0m         \u001b[1;32mif\u001b[0m \u001b[0mtraceback\u001b[0m \u001b[1;33m==\u001b[0m \u001b[0mEllipsis\u001b[0m\u001b[1;33m:\u001b[0m\u001b[1;33m\u001b[0m\u001b[0m\n\u001b[0;32m    343\u001b[0m             \u001b[0m_\u001b[0m\u001b[1;33m,\u001b[0m \u001b[0m_\u001b[0m\u001b[1;33m,\u001b[0m \u001b[0mtraceback\u001b[0m \u001b[1;33m=\u001b[0m \u001b[0msys\u001b[0m\u001b[1;33m.\u001b[0m\u001b[0mexc_info\u001b[0m\u001b[1;33m(\u001b[0m\u001b[1;33m)\u001b[0m\u001b[1;33m\u001b[0m\u001b[0m\n\u001b[1;32m--> 344\u001b[1;33m         \u001b[1;32mraise\u001b[0m \u001b[0mexc\u001b[0m\u001b[1;33m.\u001b[0m\u001b[0mwith_traceback\u001b[0m\u001b[1;33m(\u001b[0m\u001b[0mtraceback\u001b[0m\u001b[1;33m)\u001b[0m\u001b[1;33m\u001b[0m\u001b[0m\n\u001b[0m\u001b[0;32m    345\u001b[0m \u001b[1;32melse\u001b[0m\u001b[1;33m:\u001b[0m\u001b[1;33m\u001b[0m\u001b[0m\n\u001b[0;32m    346\u001b[0m     \u001b[1;31m# this version of raise is a syntax error in Python 3\u001b[0m\u001b[1;33m\u001b[0m\u001b[1;33m\u001b[0m\u001b[0m\n",
      "\u001b[1;32mC:\\Anaconda\\lib\\site-packages\\pandas\\io\\sql.py\u001b[0m in \u001b[0;36mexecute\u001b[1;34m(self, *args, **kwargs)\u001b[0m\n\u001b[0;32m   1402\u001b[0m                 \u001b[0mcur\u001b[0m\u001b[1;33m.\u001b[0m\u001b[0mexecute\u001b[0m\u001b[1;33m(\u001b[0m\u001b[1;33m*\u001b[0m\u001b[0margs\u001b[0m\u001b[1;33m,\u001b[0m \u001b[1;33m**\u001b[0m\u001b[0mkwargs\u001b[0m\u001b[1;33m)\u001b[0m\u001b[1;33m\u001b[0m\u001b[0m\n\u001b[0;32m   1403\u001b[0m             \u001b[1;32melse\u001b[0m\u001b[1;33m:\u001b[0m\u001b[1;33m\u001b[0m\u001b[0m\n\u001b[1;32m-> 1404\u001b[1;33m                 \u001b[0mcur\u001b[0m\u001b[1;33m.\u001b[0m\u001b[0mexecute\u001b[0m\u001b[1;33m(\u001b[0m\u001b[1;33m*\u001b[0m\u001b[0margs\u001b[0m\u001b[1;33m)\u001b[0m\u001b[1;33m\u001b[0m\u001b[0m\n\u001b[0m\u001b[0;32m   1405\u001b[0m             \u001b[1;32mreturn\u001b[0m \u001b[0mcur\u001b[0m\u001b[1;33m\u001b[0m\u001b[0m\n\u001b[0;32m   1406\u001b[0m         \u001b[1;32mexcept\u001b[0m \u001b[0mException\u001b[0m \u001b[1;32mas\u001b[0m \u001b[0mexc\u001b[0m\u001b[1;33m:\u001b[0m\u001b[1;33m\u001b[0m\u001b[0m\n",
      "\u001b[1;31mDatabaseError\u001b[0m: Execution failed on sql 'SELECT * From GestureTable': no such table: GestureTable"
     ],
     "output_type": "error"
    }
   ],
   "source": [
    "# turning the DB to Pandas\n",
    "df = pd.read_sql_query(\"SELECT * From GestureTable\", dat)"
   ]
  },
  {
   "cell_type": "code",
   "execution_count": 6,
   "metadata": {
    "collapsed": true
   },
   "outputs": [
    {
     "name": "stdout",
     "output_type": "stream",
     "text": [
      "              name tester  trial  length  righthand  \\\n0      swipe_right     M1      1      45          1   \n1      swipe_right     M1      2      40          1   \n2      swipe_right     M1      3      40          1   \n3      swipe_right     M1      4      39          1   \n4      swipe_right     M1      5      42          1   \n5      swipe_right     M1      6      34          1   \n6      swipe_right     M1      7      35          1   \n7      swipe_right     M1      8      37          1   \n8      swipe_right     M1      9      33          1   \n9      swipe_right     M1     10      33          1   \n10      swipe_left     M1      1      30          1   \n11      swipe_left     M1      2      30          1   \n12      swipe_left     M1      3      33          1   \n13      swipe_left     M1      4      37          1   \n14      swipe_left     M1      5      46          1   \n15      swipe_left     M1      6      46          1   \n16      swipe_left     M1      7      35          1   \n17      swipe_left     M1      8      28          1   \n18      swipe_left     M1      9      35          1   \n19      swipe_left     M1     10      30          1   \n20        swipe_up     M1      1      30          1   \n21        swipe_up     M1      2      25          1   \n22        swipe_up     M1      3      32          1   \n23        swipe_up     M1      4      27          1   \n24        swipe_up     M1      5      28          1   \n25        swipe_up     M1      6      30          1   \n26        swipe_up     M1      7      33          1   \n27        swipe_up     M1      8      37          1   \n28        swipe_up     M1      9      27          1   \n29        swipe_up     M1     10      31          1   \n...            ...    ...    ...     ...        ...   \n5585  cir_ver_cclk     J5      1      66          1   \n5586  cir_ver_cclk     J5      2      68          1   \n5587  cir_ver_cclk     J5      3      73          1   \n5588  cir_ver_cclk     J5      4      60          1   \n5589  cir_ver_cclk     J5      5      56          1   \n5590  cir_ver_cclk     J5      6      64          1   \n5591  cir_ver_cclk     J5      7      67          1   \n5592  cir_ver_cclk     J5      8      86          1   \n5593  cir_ver_cclk     J5      9      70          1   \n5594  cir_ver_cclk     J5     10      72          1   \n5595     twist_clk     J5      1      71          1   \n5596     twist_clk     J5      2      64          1   \n5597     twist_clk     J5      3      65          1   \n5598     twist_clk     J5      4      73          1   \n5599     twist_clk     J5      5      66          1   \n5600     twist_clk     J5      6      61          1   \n5601     twist_clk     J5      7      68          1   \n5602     twist_clk     J5      8      67          1   \n5603     twist_clk     J5      9      68          1   \n5604     twist_clk     J5     10      67          1   \n5605    twist_cclk     J5      1      60          1   \n5606    twist_cclk     J5      2      76          1   \n5607    twist_cclk     J5      3      72          1   \n5608    twist_cclk     J5      4      68          1   \n5609    twist_cclk     J5      5      86          1   \n5610    twist_cclk     J5      6      67          1   \n5611    twist_cclk     J5      7      66          1   \n5612    twist_cclk     J5      8      70          1   \n5613    twist_cclk     J5      9      64          1   \n5614    twist_cclk     J5     10      65          1   \n\n                                                   data  \\\n0     b'\\xfc\\xa9\\x9cA\\xd2\\xd8\\xa8<\\xca\\xb1\\x00>\\x88\\...   \n1     b'\\xe0O\\x85A\\xa1\\xa3\\xd0<\\xa1V\\xe9=\\n\\xdf\\xf7=...   \n2     b'o\\x12\\x85A_Wu<\\x84\\x8a\\xe0=\\xe7\\xf9\\x00>\\x05...   \n3     b'\\xa2E\\x85A\\x87O\\x89<\\xc8\\x9e\\xca=\\xc7\\xee\\xf...   \n4     b'\\xc7K\\x85A\\xb7\\x97\\xf7<:g\\xcb=\\x12#\\xf0=c\\x1...   \n5     b'\\xa2E\\x85A\\xfc\\xc9\\xf5<\\x85\\xee\\xc1=\\x88Q\\xf...   \n6     b'\\x1b/\\x85A\\xe4\\x96\\xb4<\\xc7\\x19\\xb2=\\n\\xeb\\x...   \n7     b'\\xe0O\\x85A;\\xedL<\\xdc\\x0c\\xb7=\\xfa\\xa9\\xf0=\\...   \n8     b'Nb\\x85ALF\\xe9<\\xf9\\xb3\\xc4=[Q\\xea=fV\\x7f?If\\...   \n9     b'\\x07\\x81\\x85A\\xbci\\xe4<r!\\xda=\\x80~\\xf3=\\x0f...   \n10    b'\\xe0O\\x85Ar\\x112= k;\\xbc4U\\xda\\xbc\\xf1\\xd9}?...   \n11    b'\\xaeG\\x85Ap\\x80\\xe2<\\x88e\\xd4<\\x18\\xae,\\xbc\\...   \n12    b\"\\xea&\\x85A\\xfa\\xe8H=\\xe0>\\xd0<4\\xbe\\x89\\xbc\\...   \n13    b'\\xd3M\\x85A\\xe5\\xec\\x97=\\xbc\\xca_=\\xa0\\xa6\\x8...   \n14    b'\\x02+\\x85Atf\\xdf<\\x10\\x0f\\xa7=\\x0c\"\\x90\\xbd\\...   \n15    b'\\xb7\\xf3\\x8fA\\xd8H\\xf0<\\xe8\\xe0M=\\x187\\x8e\\x...   \n16    b'{\\x14\\x85A:(%=\\x04\\xdeT=\\x86\\xb8\\x9b\\xbd\\xd6...   \n17    b'\\x8cl\\x85A\\xfe\\xb4\\x85=4XD=\\xce\\xa4o\\xbd\\xf4...   \n18    b'\\xa2E\\x85Ac\\x08\\x9a=\\x1c\\xa0C=*W\\x87\\xbd\\xb7...   \n19    b'\\xc7K\\x85A\\x12\\xc6\\xfa=|\\x02,=\\x07\\xcce\\xbdC...   \n20    b\"\\xc7K\\x85A\\xd89\\xde< \\x07\\x93\\xbc\\xa0\\x8c\\xd...   \n21    b'\\xd3M\\x85A\\x1c\\xe2F<P\\xcdh\\xbd\\x94\\x93\\x1b\\x...   \n22    b'gf\\x85A,\\xc2\\x9e<^l\\x01\\xbd|C\\xc5\\xbc,\\xa4\\x...   \n23    b'\\xc7K\\x85Ar\\xab\\x8c<\\x18X\\x01\\xbd\\x185\\xbe\\x...   \n24    b'\\xe0O\\x85A\\x18W@<jvs\\xbd8+\\x07\\xbd\\xa5\\xaa\\x...   \n25    b'gf\\x85A\\xc2>\\xbe<W\\xe8\\x8f\\xbd(\\r(\\xbd\\x03\\x...   \n26    b'Nb\\x85A\\x0c\\xdb\\xf7<\\xccT_\\xbd\\x9e\\x89\\n\\xbd...   \n27    b'\\xe0O\\x85AlR\\xdc<(\\xb2\\x15\\xbd\\xdc?\\xe9\\xbc\\...   \n28    b'\\xa2E\\x85A\\xe8\\xf5\\x8e<\\xc6b0\\xbd\\xdc\\x17\\xc...   \n29    b'\\xd3M\\x85A\\x88\\x7fR<\\x08\\xc9\\xbe\\xbc\\xe0\\xcf...   \n...                                                 ...   \n5585  b'\\xf8S\\x85A-pS=\\x11\\xdd{>\\xfd\\xd7\\xa4=\\x9a}t?...   \n5586  b'}?\\x85Ax\\xc0\\x8a=[\\xbcc>@o\\x90=n\\xbex?ZVq>k\\...   \n5587  b'\\xf8S\\x85A\\xf3Qe=%\\x97p>\\x1b\\xd7\\xb2=\\xfa\\xf...   \n5588  b'}?\\x85A|\\xd6o=\\xa6\\x96\\x81>\\x9c^\\xc7=@/s?2\\x...   \n5589  b'\\x7fj\\x85A\\xf0\\xc5\\x89=\\xe0\\x1b\\x88>\\xfc\\x85...   \n5590  b'\\xc7K\\x85A|\\x81\\x88=\\x8a\\xf4\\x81>yE\\xc6=\\xf5...   \n5591  b'\\xbbI\\x85A\\xb1\\xbc\\x85=\\x8c\\xa4\\x80>*Q\\xd8=\\...   \n5592  b'\\xbbI\\x85A\\xcb\\xa7i=\\xab\\xf5s>5\\x87\\xdd=\\xea...   \n5593  b'\\xe0O\\x85A\\x1bs\\x8b=\\xff\\x03T>u\\x14\\xbe=\\xad...   \n5594  b'\\xe0O\\x85A\\xa9i\\x80=\\xfd\\x12d>\\x8dm\\xdf=\\xc4...   \n5595  b'\\x11X\\x85A\\xaf\\x8b\\x82=J\\x13\\xf6=\\x0e,\\x97;\\...   \n5596  b'\\x05V\\x85A\\xe5\\x91\\x81=UQ\\x0b>v\\x81\\xc0<\\xa7...   \n5597  b'q=\\x85A\\n\\x80\\x86=A\\xaa\\x1c>a\\xee\\xf2<\\x01\\x...   \n5598  b'\\x05V\\x85A\\xa3\\x9d\\x91=y\\xe7\\x1f>\\xacl\\x11=c...   \n5599  b'\\xe0O\\x85A\\x95\\x05Y=\\x1d\\x04\\x14>\\xccJ\\x1c=,...   \n5600  b'\\x8aA\\x85A\\xd2\\xd7\\x82=\\xc9\\xd6\\x1b>\\xa2\\xe6...   \n5601  b'\\x98n\\x85A\\xaa\\xda{=\\x81\\x18$>~?:=U\\x00|?\\xe...   \n5602  b'\\xbbI\\x85Ai>o=\\xe8Q\\x1b>0=2=\\xb7\\x97|?\\xcd`\\...   \n5603  b'}?\\x85AFpt=\\xecB&>3\\rN=s\\xd6|?\\x08\\x7f\\x1f>\\...   \n5604  b'\\xe0O\\x85A\\xf1\\rY=\\xa6C->3\\xe5[=\\xa7E|?\\xc1\\...   \n5605  b'\\x8aA\\x85A\\x08l\\x91=\\x8dg\\x06>g\\x1c/\\xbc\\x07...   \n5606  b'\\xe0O\\x85AT\\x19\\x9d=\\xd9\\r\\x18>3\\xd9=\\xbc\\xb...   \n5607  b'\\xecQ\\x85A\\xe2\\xf9\\xa3=\\x13\\x93\\x19>\\x05\\x89...   \n5608  b'\\xe0O\\x85A\\x05\\xeb\\x9f=\\x0bG#>T\\xd0\\x85\\xbb\\...   \n5609  b'\\xc7K\\x85A\\x96\\x95\\xa1=\\x95D\\x1b>>i\\xa0\\xbb\\...   \n5610  b'\\xf8S\\x85A\\x06j\\x98=\\xdb\\xcf\\x1b>n\\x13\\x00;\\...   \n5611  b'\\xaeG\\x85A^_\\xa2=\\xeb\\r$>\\xa4)\\xb3;&\\xc1}?Q\\...   \n5612  b'\\xe2z\\x85A\\xc3\\x1d\\x8e=\\xf2\\x8e >\\x85\\xb9U<\\...   \n5613  b'\\xc7K\\x85A\\x9f\\xaa\\xaf=Y] >\\x1eoI<\\xe1\\xac~?...   \n5614  b'gf\\x85Ai~\\xae=R\\x0f\\x17>\\xe1.|<\\xd0\\x89~?\\xa...   \n\n                                     noise  \\\n0          b's\\x8a\\x11>g\\tg>\\x1c\\xd9\\x88>'   \n1          b's\\x8a\\x11>g\\tg>\\x1c\\xd9\\x88>'   \n2          b's\\x8a\\x11>g\\tg>\\x1c\\xd9\\x88>'   \n3          b's\\x8a\\x11>g\\tg>\\x1c\\xd9\\x88>'   \n4          b's\\x8a\\x11>g\\tg>\\x1c\\xd9\\x88>'   \n5          b's\\x8a\\x11>g\\tg>\\x1c\\xd9\\x88>'   \n6          b's\\x8a\\x11>g\\tg>\\x1c\\xd9\\x88>'   \n7          b's\\x8a\\x11>g\\tg>\\x1c\\xd9\\x88>'   \n8          b's\\x8a\\x11>g\\tg>\\x1c\\xd9\\x88>'   \n9          b's\\x8a\\x11>g\\tg>\\x1c\\xd9\\x88>'   \n10    b'\\xbd\\xa7\\x03>\\xd2\\xdcT>\\x08~\\x98>'   \n11    b'\\xbd\\xa7\\x03>\\xd2\\xdcT>\\x08~\\x98>'   \n12    b'\\xbd\\xa7\\x03>\\xd2\\xdcT>\\x08~\\x98>'   \n13    b'\\xbd\\xa7\\x03>\\xd2\\xdcT>\\x08~\\x98>'   \n14    b'\\xbd\\xa7\\x03>\\xd2\\xdcT>\\x08~\\x98>'   \n15    b'\\xbd\\xa7\\x03>\\xd2\\xdcT>\\x08~\\x98>'   \n16    b'\\xbd\\xa7\\x03>\\xd2\\xdcT>\\x08~\\x98>'   \n17    b'\\xbd\\xa7\\x03>\\xd2\\xdcT>\\x08~\\x98>'   \n18    b'\\xbd\\xa7\\x03>\\xd2\\xdcT>\\x08~\\x98>'   \n19    b'\\xbd\\xa7\\x03>\\xd2\\xdcT>\\x08~\\x98>'   \n20    b'\\xbd\\xa7\\x03>\\xd2\\xdcT>\\x08~\\x98>'   \n21    b'\\xbd\\xa7\\x03>\\xd2\\xdcT>\\x08~\\x98>'   \n22    b'\\xbd\\xa7\\x03>\\xd2\\xdcT>\\x08~\\x98>'   \n23    b'\\xbd\\xa7\\x03>\\xd2\\xdcT>\\x08~\\x98>'   \n24    b'\\xbd\\xa7\\x03>\\xd2\\xdcT>\\x08~\\x98>'   \n25    b'\\xbd\\xa7\\x03>\\xd2\\xdcT>\\x08~\\x98>'   \n26    b'\\xbd\\xa7\\x03>\\xd2\\xdcT>\\x08~\\x98>'   \n27    b'\\xbd\\xa7\\x03>\\xd2\\xdcT>\\x08~\\x98>'   \n28    b'\\xbd\\xa7\\x03>\\xd2\\xdcT>\\x08~\\x98>'   \n29    b'\\xbd\\xa7\\x03>\\xd2\\xdcT>\\x08~\\x98>'   \n...                                    ...   \n5585     b'\\xfe\\x99\\x0b>\\xee\\xa0Z>Oq\\x85>'   \n5586     b'\\xfe\\x99\\x0b>\\xee\\xa0Z>Oq\\x85>'   \n5587     b'\\xfe\\x99\\x0b>\\xee\\xa0Z>Oq\\x85>'   \n5588     b'\\xfe\\x99\\x0b>\\xee\\xa0Z>Oq\\x85>'   \n5589     b'\\xfe\\x99\\x0b>\\xee\\xa0Z>Oq\\x85>'   \n5590     b'\\xfe\\x99\\x0b>\\xee\\xa0Z>Oq\\x85>'   \n5591     b'\\xfe\\x99\\x0b>\\xee\\xa0Z>Oq\\x85>'   \n5592     b'\\xfe\\x99\\x0b>\\xee\\xa0Z>Oq\\x85>'   \n5593     b'\\xfe\\x99\\x0b>\\xee\\xa0Z>Oq\\x85>'   \n5594     b'\\xfe\\x99\\x0b>\\xee\\xa0Z>Oq\\x85>'   \n5595           b'p\\xb4\\x01>|rb>M\\xa5\\xab>'   \n5596           b'p\\xb4\\x01>|rb>M\\xa5\\xab>'   \n5597           b'p\\xb4\\x01>|rb>M\\xa5\\xab>'   \n5598           b'p\\xb4\\x01>|rb>M\\xa5\\xab>'   \n5599           b'p\\xb4\\x01>|rb>M\\xa5\\xab>'   \n5600           b'p\\xb4\\x01>|rb>M\\xa5\\xab>'   \n5601           b'p\\xb4\\x01>|rb>M\\xa5\\xab>'   \n5602           b'p\\xb4\\x01>|rb>M\\xa5\\xab>'   \n5603           b'p\\xb4\\x01>|rb>M\\xa5\\xab>'   \n5604           b'p\\xb4\\x01>|rb>M\\xa5\\xab>'   \n5605              b'aF\\x0e>,k[>\\x17\\xe7|>'   \n5606              b'aF\\x0e>,k[>\\x17\\xe7|>'   \n5607              b'aF\\x0e>,k[>\\x17\\xe7|>'   \n5608              b'aF\\x0e>,k[>\\x17\\xe7|>'   \n5609              b'aF\\x0e>,k[>\\x17\\xe7|>'   \n5610              b'aF\\x0e>,k[>\\x17\\xe7|>'   \n5611              b'aF\\x0e>,k[>\\x17\\xe7|>'   \n5612              b'aF\\x0e>,k[>\\x17\\xe7|>'   \n5613              b'aF\\x0e>,k[>\\x17\\xe7|>'   \n5614              b'aF\\x0e>,k[>\\x17\\xe7|>'   \n\n                                               bias  \n0        b'\\xb5<\\xe2\\xc0y\\xd6\\x92>\\x9b\\x1b\\xd5\\xc1'  \n1        b'\\xb5<\\xe2\\xc0y\\xd6\\x92>\\x9b\\x1b\\xd5\\xc1'  \n2        b'\\xb5<\\xe2\\xc0y\\xd6\\x92>\\x9b\\x1b\\xd5\\xc1'  \n3        b'\\xb5<\\xe2\\xc0y\\xd6\\x92>\\x9b\\x1b\\xd5\\xc1'  \n4        b'\\xb5<\\xe2\\xc0y\\xd6\\x92>\\x9b\\x1b\\xd5\\xc1'  \n5        b'\\xb5<\\xe2\\xc0y\\xd6\\x92>\\x9b\\x1b\\xd5\\xc1'  \n6        b'\\xb5<\\xe2\\xc0y\\xd6\\x92>\\x9b\\x1b\\xd5\\xc1'  \n7        b'\\xb5<\\xe2\\xc0y\\xd6\\x92>\\x9b\\x1b\\xd5\\xc1'  \n8        b'\\xb5<\\xe2\\xc0y\\xd6\\x92>\\x9b\\x1b\\xd5\\xc1'  \n9        b'\\xb5<\\xe2\\xc0y\\xd6\\x92>\\x9b\\x1b\\xd5\\xc1'  \n10       b'tS\\xe3\\xc0\\xae\\x89\\x98>\\x01\\xb8\\xd5\\xc1'  \n11       b'tS\\xe3\\xc0\\xae\\x89\\x98>\\x01\\xb8\\xd5\\xc1'  \n12       b'tS\\xe3\\xc0\\xae\\x89\\x98>\\x01\\xb8\\xd5\\xc1'  \n13       b'tS\\xe3\\xc0\\xae\\x89\\x98>\\x01\\xb8\\xd5\\xc1'  \n14       b'tS\\xe3\\xc0\\xae\\x89\\x98>\\x01\\xb8\\xd5\\xc1'  \n15       b'tS\\xe3\\xc0\\xae\\x89\\x98>\\x01\\xb8\\xd5\\xc1'  \n16       b'tS\\xe3\\xc0\\xae\\x89\\x98>\\x01\\xb8\\xd5\\xc1'  \n17       b'tS\\xe3\\xc0\\xae\\x89\\x98>\\x01\\xb8\\xd5\\xc1'  \n18       b'tS\\xe3\\xc0\\xae\\x89\\x98>\\x01\\xb8\\xd5\\xc1'  \n19       b'tS\\xe3\\xc0\\xae\\x89\\x98>\\x01\\xb8\\xd5\\xc1'  \n20       b'tS\\xe3\\xc0\\xae\\x89\\x98>\\x01\\xb8\\xd5\\xc1'  \n21       b'tS\\xe3\\xc0\\xae\\x89\\x98>\\x01\\xb8\\xd5\\xc1'  \n22       b'tS\\xe3\\xc0\\xae\\x89\\x98>\\x01\\xb8\\xd5\\xc1'  \n23       b'tS\\xe3\\xc0\\xae\\x89\\x98>\\x01\\xb8\\xd5\\xc1'  \n24       b'tS\\xe3\\xc0\\xae\\x89\\x98>\\x01\\xb8\\xd5\\xc1'  \n25       b'tS\\xe3\\xc0\\xae\\x89\\x98>\\x01\\xb8\\xd5\\xc1'  \n26       b'tS\\xe3\\xc0\\xae\\x89\\x98>\\x01\\xb8\\xd5\\xc1'  \n27       b'tS\\xe3\\xc0\\xae\\x89\\x98>\\x01\\xb8\\xd5\\xc1'  \n28       b'tS\\xe3\\xc0\\xae\\x89\\x98>\\x01\\xb8\\xd5\\xc1'  \n29       b'tS\\xe3\\xc0\\xae\\x89\\x98>\\x01\\xb8\\xd5\\xc1'  \n...                                             ...  \n5585  b\"\\xa0\\xd6\\xe2\\xc0\\xc8\\x11'?\\xfb\\x89\\xd7\\xc1\"  \n5586  b\"\\xa0\\xd6\\xe2\\xc0\\xc8\\x11'?\\xfb\\x89\\xd7\\xc1\"  \n5587  b\"\\xa0\\xd6\\xe2\\xc0\\xc8\\x11'?\\xfb\\x89\\xd7\\xc1\"  \n5588  b\"\\xa0\\xd6\\xe2\\xc0\\xc8\\x11'?\\xfb\\x89\\xd7\\xc1\"  \n5589  b\"\\xa0\\xd6\\xe2\\xc0\\xc8\\x11'?\\xfb\\x89\\xd7\\xc1\"  \n5590  b\"\\xa0\\xd6\\xe2\\xc0\\xc8\\x11'?\\xfb\\x89\\xd7\\xc1\"  \n5591  b\"\\xa0\\xd6\\xe2\\xc0\\xc8\\x11'?\\xfb\\x89\\xd7\\xc1\"  \n5592  b\"\\xa0\\xd6\\xe2\\xc0\\xc8\\x11'?\\xfb\\x89\\xd7\\xc1\"  \n5593  b\"\\xa0\\xd6\\xe2\\xc0\\xc8\\x11'?\\xfb\\x89\\xd7\\xc1\"  \n5594  b\"\\xa0\\xd6\\xe2\\xc0\\xc8\\x11'?\\xfb\\x89\\xd7\\xc1\"  \n5595              b'Z=\\xe3\\xc0\\xda\\xf7B?:0\\xd7\\xc1'  \n5596              b'Z=\\xe3\\xc0\\xda\\xf7B?:0\\xd7\\xc1'  \n5597              b'Z=\\xe3\\xc0\\xda\\xf7B?:0\\xd7\\xc1'  \n5598              b'Z=\\xe3\\xc0\\xda\\xf7B?:0\\xd7\\xc1'  \n5599              b'Z=\\xe3\\xc0\\xda\\xf7B?:0\\xd7\\xc1'  \n5600              b'Z=\\xe3\\xc0\\xda\\xf7B?:0\\xd7\\xc1'  \n5601              b'Z=\\xe3\\xc0\\xda\\xf7B?:0\\xd7\\xc1'  \n5602              b'Z=\\xe3\\xc0\\xda\\xf7B?:0\\xd7\\xc1'  \n5603              b'Z=\\xe3\\xc0\\xda\\xf7B?:0\\xd7\\xc1'  \n5604              b'Z=\\xe3\\xc0\\xda\\xf7B?:0\\xd7\\xc1'  \n5605       b'\\x9c\\xd8\\xe2\\xc0\\x1b\\xe1,?\\t]\\xd7\\xc1'  \n5606       b'\\x9c\\xd8\\xe2\\xc0\\x1b\\xe1,?\\t]\\xd7\\xc1'  \n5607       b'\\x9c\\xd8\\xe2\\xc0\\x1b\\xe1,?\\t]\\xd7\\xc1'  \n5608       b'\\x9c\\xd8\\xe2\\xc0\\x1b\\xe1,?\\t]\\xd7\\xc1'  \n5609       b'\\x9c\\xd8\\xe2\\xc0\\x1b\\xe1,?\\t]\\xd7\\xc1'  \n5610       b'\\x9c\\xd8\\xe2\\xc0\\x1b\\xe1,?\\t]\\xd7\\xc1'  \n5611       b'\\x9c\\xd8\\xe2\\xc0\\x1b\\xe1,?\\t]\\xd7\\xc1'  \n5612       b'\\x9c\\xd8\\xe2\\xc0\\x1b\\xe1,?\\t]\\xd7\\xc1'  \n5613       b'\\x9c\\xd8\\xe2\\xc0\\x1b\\xe1,?\\t]\\xd7\\xc1'  \n5614       b'\\x9c\\xd8\\xe2\\xc0\\x1b\\xe1,?\\t]\\xd7\\xc1'  \n\n[5615 rows x 8 columns]\n"
     ]
    }
   ],
   "source": [
    "# printing df\n",
    "print(df)"
   ]
  },
  {
   "cell_type": "code",
   "execution_count": 13,
   "metadata": {
    "collapsed": true
   },
   "outputs": [
    {
     "ename": "AttributeError",
     "evalue": "'Series' object has no attribute 'rstrip'",
     "traceback": [
      "\u001b[1;31m---------------------------------------------------------------------------\u001b[0m",
      "\u001b[1;31mAttributeError\u001b[0m                            Traceback (most recent call last)",
      "\u001b[1;32m<ipython-input-13-0148eadaff20>\u001b[0m in \u001b[0;36m<module>\u001b[1;34m()\u001b[0m\n\u001b[0;32m      1\u001b[0m \u001b[1;31m#df['data'] = df['data'].str.decode('utf-8')\u001b[0m\u001b[1;33m\u001b[0m\u001b[1;33m\u001b[0m\u001b[0m\n\u001b[1;32m----> 2\u001b[1;33m \u001b[0mdf\u001b[0m\u001b[1;33m[\u001b[0m\u001b[1;34m'data'\u001b[0m\u001b[1;33m]\u001b[0m \u001b[1;33m=\u001b[0m \u001b[0mdf\u001b[0m\u001b[1;33m[\u001b[0m\u001b[1;34m'data'\u001b[0m\u001b[1;33m]\u001b[0m\u001b[1;33m.\u001b[0m\u001b[0mrstrip\u001b[0m\u001b[1;33m(\u001b[0m\u001b[1;34m\"\\n\"\u001b[0m\u001b[1;33m)\u001b[0m\u001b[1;33m.\u001b[0m\u001b[0mdecode\u001b[0m\u001b[1;33m(\u001b[0m\u001b[1;34m\"utf-16\"\u001b[0m\u001b[1;33m)\u001b[0m\u001b[1;33m\u001b[0m\u001b[0m\n\u001b[0m\u001b[0;32m      3\u001b[0m \u001b[0mdf\u001b[0m\u001b[1;33m[\u001b[0m\u001b[1;34m'data'\u001b[0m\u001b[1;33m]\u001b[0m \u001b[1;33m=\u001b[0m \u001b[0mdf\u001b[0m\u001b[1;33m[\u001b[0m\u001b[1;34m'data'\u001b[0m\u001b[1;33m]\u001b[0m\u001b[1;33m.\u001b[0m\u001b[0msplit\u001b[0m\u001b[1;33m(\u001b[0m\u001b[1;34m\"\\r\\n\"\u001b[0m\u001b[1;33m)\u001b[0m\u001b[1;33m\u001b[0m\u001b[0m\n\u001b[0;32m      4\u001b[0m \u001b[0mdf\u001b[0m\u001b[1;33m\u001b[0m\u001b[0m\n",
      "\u001b[1;32mC:\\Anaconda\\lib\\site-packages\\pandas\\core\\generic.py\u001b[0m in \u001b[0;36m__getattr__\u001b[1;34m(self, name)\u001b[0m\n\u001b[0;32m   3079\u001b[0m             \u001b[1;32mif\u001b[0m \u001b[0mname\u001b[0m \u001b[1;32min\u001b[0m \u001b[0mself\u001b[0m\u001b[1;33m.\u001b[0m\u001b[0m_info_axis\u001b[0m\u001b[1;33m:\u001b[0m\u001b[1;33m\u001b[0m\u001b[0m\n\u001b[0;32m   3080\u001b[0m                 \u001b[1;32mreturn\u001b[0m \u001b[0mself\u001b[0m\u001b[1;33m[\u001b[0m\u001b[0mname\u001b[0m\u001b[1;33m]\u001b[0m\u001b[1;33m\u001b[0m\u001b[0m\n\u001b[1;32m-> 3081\u001b[1;33m             \u001b[1;32mreturn\u001b[0m \u001b[0mobject\u001b[0m\u001b[1;33m.\u001b[0m\u001b[0m__getattribute__\u001b[0m\u001b[1;33m(\u001b[0m\u001b[0mself\u001b[0m\u001b[1;33m,\u001b[0m \u001b[0mname\u001b[0m\u001b[1;33m)\u001b[0m\u001b[1;33m\u001b[0m\u001b[0m\n\u001b[0m\u001b[0;32m   3082\u001b[0m \u001b[1;33m\u001b[0m\u001b[0m\n\u001b[0;32m   3083\u001b[0m     \u001b[1;32mdef\u001b[0m \u001b[0m__setattr__\u001b[0m\u001b[1;33m(\u001b[0m\u001b[0mself\u001b[0m\u001b[1;33m,\u001b[0m \u001b[0mname\u001b[0m\u001b[1;33m,\u001b[0m \u001b[0mvalue\u001b[0m\u001b[1;33m)\u001b[0m\u001b[1;33m:\u001b[0m\u001b[1;33m\u001b[0m\u001b[0m\n",
      "\u001b[1;31mAttributeError\u001b[0m: 'Series' object has no attribute 'rstrip'"
     ],
     "output_type": "error"
    }
   ],
   "source": [
    "#df['data'] = df['data'].str.decode('utf-8')\n",
    "df['data'] = df['data'].rstrip(\"\\n\").decode(\"utf-16\")\n",
    "df['data'] = df['data'].split(\"\\r\\n\")\n",
    "df"
   ]
  },
  {
   "cell_type": "code",
   "execution_count": null,
   "metadata": {},
   "outputs": [],
   "source": []
  }
 ],
 "metadata": {
  "kernelspec": {
   "display_name": "Python 2",
   "language": "python",
   "name": "python2"
  },
  "language_info": {
   "codemirror_mode": {
    "name": "ipython",
    "version": 2
   },
   "file_extension": ".py",
   "mimetype": "text/x-python",
   "name": "python",
   "nbconvert_exporter": "python",
   "pygments_lexer": "ipython2",
   "version": "2.7.6"
  }
 },
 "nbformat": 4,
 "nbformat_minor": 0
}
