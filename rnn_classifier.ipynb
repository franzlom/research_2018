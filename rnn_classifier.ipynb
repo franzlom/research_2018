{
 "cells": [
  {
   "cell_type": "code",
   "execution_count": 399,
   "metadata": {},
   "outputs": [],
   "source": [
    "from IPython.display import Image\n",
    "from IPython.core.display import HTML \n",
    "#from __future__ import print_func  tion, division\n",
    "import numpy as np\n",
    "import tensorflow as tf\n",
    "import matplotlib.pyplot as plt\n",
    "import pandas as pd\n",
    "import json\n",
    "from sklearn.model_selection import train_test_split\n",
    "Image(url= \"https://cdn-images-1.medium.com/max/1600/1*UkI9za9zTR-HL8uM15Wmzw.png\")\n",
    "\n",
    "pd.set_option('display.max_columns', 20)\n",
    "pd.set_option('display.max_rows', 500)\n",
    "pd.set_option('display.width', 500)\n"
   ]
  },
  {
   "cell_type": "code",
   "execution_count": 440,
   "metadata": {},
   "outputs": [],
   "source": [
    "# the columns use for predictions\n",
    "# NOTE:\n",
    "# When adding more features\n",
    "# make sure make the model in a differnt path because it screws with the checkpoints\n",
    "saved_model = \"./6_col_checkpoints/\"\n",
    "features = ['posX', 'posY', 'posZ', 'velX', 'velY', 'velZ']\n",
    "col_numbers = len(features)\n"
   ]
  },
  {
   "cell_type": "code",
   "execution_count": 441,
   "metadata": {},
   "outputs": [],
   "source": [
    "# ------------- Hyperparameters ---------------------\n",
    "\n",
    "\n",
    "# hyperparams\n",
    "\n",
    "num_epoch = 100\n",
    "total_series_length = 50000\n",
    "truncated_backprop_length = 15\n",
    "state_size = 4 # number of layers\n",
    "\n",
    "number_classes = 2\n",
    "echo_step = 3\n",
    "batch_size = 5\n",
    "number_classes = total_series_length // batch_size // truncated_backprop_length\n",
    "timestep = 1000"
   ]
  },
  {
   "cell_type": "code",
   "execution_count": 442,
   "metadata": {},
   "outputs": [
    {
     "data": {
      "text/plain": [
       "['tester',\n 'trial',\n 'rightHanded',\n 'timestamp',\n 'posX',\n 'posY',\n 'posZ',\n 'posRelX',\n 'posRelY',\n 'posRelZ',\n 'velX',\n 'velY',\n 'velZ',\n 'quatW',\n 'quatX',\n 'quatY',\n 'quatZ',\n 'accRelX',\n 'accRelY',\n 'accRelZ',\n 'accAbsX',\n 'accAbsY',\n 'accAbsZ']"
      ]
     },
     "execution_count": 442,
     "metadata": {},
     "output_type": "execute_result"
    }
   ],
   "source": [
    "# copying the dataframe so I have a before and after\n",
    "df_cir_hor_cclk = pd.read_csv('c:/Users/Franz Lom/Documents/TensorFlow/gesture_recognition/Data/extracted_data/cir_hor_cclk.csv') # saving circle horizontal counter clockwise csv as df\n",
    "df_v_shape = pd.read_csv('c:/Users/Franz Lom/Documents/TensorFlow/gesture_recognition/Data/extracted_data/v_shape.csv')\n",
    "#df_cir_hor_cclk['shape'] = 1\n",
    "#df_v_shape['shape'] = 2\n",
    "\n",
    "df_cir = df_cir_hor_cclk.copy()\n",
    "df_v = df_v_shape.copy()\n",
    "\n",
    "df_cir['shape'] = 1\n",
    "df_v['shape'] = 2\n",
    "list(df_cir_hor_cclk)\n"
   ]
  },
  {
   "cell_type": "code",
   "execution_count": 443,
   "metadata": {},
   "outputs": [],
   "source": [
    "def pad_features(not_pad_features):\n",
    "    \"\"\"\n",
    "    A function that returns a padded array with a size 300\n",
    "    :param not_pad_features: \n",
    "    :return: an np.array of padded vector with the length of  300 \n",
    "    \"\"\"\n",
    "    \n",
    "    list_pad_vec = list()\n",
    "    feature_len = [len(s) for s in not_pad_features]\n",
    "    if max(feature_len) > 300:\n",
    "        raise Exception('the longest stroke is greater than 300. len: [}'\n",
    "                        .format(max(feature_len)))\n",
    "    padding = np.zeros((300, col_numbers))\n",
    "    \n",
    "    for x in not_pad_features:\n",
    "        padding[:x.shape[0], :x.shape[1]] = x \n",
    "        list_pad_vec.append(padding)\n",
    "        padding = np.zeros((300, col_numbers))\n",
    "        \n",
    "    return(np.array(list_pad_vec))"
   ]
  },
  {
   "cell_type": "code",
   "execution_count": 444,
   "metadata": {},
   "outputs": [],
   "source": [
    "def group_drawn_shape(grouped):\n",
    "    \"\"\"\n",
    "    \n",
    "    :param grouped: grouped value from the dataframe, ['trial'. 'tester']\n",
    "    :return: np.array of grouped vectors\n",
    "    \"\"\"\n",
    "    source = [x for x in grouped]\n",
    "    list_vec = list()\n",
    "    for v in source:\n",
    "        df = v[1]\n",
    "        df = df[features]\n",
    "        x = df.values\n",
    "        list_vec.append(x)\n",
    "    return np.array(list_vec)"
   ]
  },
  {
   "cell_type": "code",
   "execution_count": 445,
   "metadata": {
    "collapsed": true
   },
   "outputs": [
    {
     "name": "stdout",
     "output_type": "stream",
     "text": [
      "(280,)\n"
     ]
    }
   ],
   "source": [
    "cir_features = group_drawn_shape(df_cir.groupby(['trial', 'tester']))\n",
    "v_features = group_drawn_shape(df_v.groupby(['trial', 'tester']))\n",
    "\n",
    "cir_stroke_length = [len(stroke) for stroke in cir_features]\n",
    "cir_stroke = [stroke for stroke in cir_features]\n",
    "print(cir_features.shape)\n",
    "pad_cir_features = pad_features(cir_features)\n",
    "pad_v_features = pad_features(v_features)"
   ]
  },
  {
   "cell_type": "code",
   "execution_count": 446,
   "metadata": {
    "collapsed": true
   },
   "outputs": [
    {
     "name": "stdout",
     "output_type": "stream",
     "text": [
      "(280, 300, 6)\n(280, 300, 6)\n"
     ]
    },
    {
     "data": {
      "text/plain": [
       "(560, 300, 6)"
      ]
     },
     "execution_count": 446,
     "metadata": {},
     "output_type": "execute_result"
    }
   ],
   "source": [
    "print(pad_cir_features.shape)\n",
    "print(pad_v_features.shape)\n",
    "\n",
    "#combine the padded data so we have one data to work with\n",
    "data = np.vstack((pad_cir_features, pad_v_features))\n",
    "data.shape\n"
   ]
  },
  {
   "cell_type": "code",
   "execution_count": 447,
   "metadata": {},
   "outputs": [
    {
     "data": {
      "text/plain": [
       "array([[1., 0.],\n       [1., 0.],\n       [1., 0.],\n       [1., 0.],\n       [1., 0.],\n       [0., 1.],\n       [0., 1.],\n       [0., 1.],\n       [0., 1.],\n       [0., 1.]])"
      ]
     },
     "execution_count": 447,
     "metadata": {},
     "output_type": "execute_result"
    }
   ],
   "source": [
    "# labels are one hot encoded\n",
    "horizontal_circle_label = np.zeros((280,2))\n",
    "v_shape_label = np.zeros((280,2))\n",
    "\n",
    "horizontal_circle_label[:, 0] = 1\n",
    "v_shape_label[:, 1] = 1\n",
    "\n",
    "labels = np.vstack((horizontal_circle_label, v_shape_label))\n",
    "labels[275:285]"
   ]
  },
  {
   "cell_type": "code",
   "execution_count": 448,
   "metadata": {},
   "outputs": [
    {
     "data": {
      "text/plain": [
       "array([0., 0., 0., 0., 0., 1., 1., 1., 1., 1.])"
      ]
     },
     "execution_count": 448,
     "metadata": {},
     "output_type": "execute_result"
    }
   ],
   "source": [
    "horizontal_circle_label = np.zeros(280)\n",
    "v_shape_label = np.zeros(280)\n",
    "v_shape_label[:] = 1\n",
    "labels = np.concatenate([horizontal_circle_label, v_shape_label])\n",
    "labels[275:285]"
   ]
  },
  {
   "cell_type": "code",
   "execution_count": 449,
   "metadata": {
    "collapsed": true
   },
   "outputs": [
    {
     "name": "stdout",
     "output_type": "stream",
     "text": [
      "(448, 300, 6)\n(448,)\n"
     ]
    }
   ],
   "source": [
    "# split the data to training training and testing data.\n",
    "# x = features\n",
    "# y = labels\n",
    "x_train, x_test, y_train, y_test = train_test_split(\n",
    "    data, labels, test_size=0.20, random_state=42)\n",
    "\n",
    "print(x_train.shape)\n",
    "print(y_train.shape)"
   ]
  },
  {
   "cell_type": "code",
   "execution_count": 450,
   "metadata": {},
   "outputs": [],
   "source": [
    "train_input_fn = tf.estimator.inputs.numpy_input_fn(\n",
    "    x = {\"x\": x_train},\n",
    "    y = y_train,\n",
    "    num_epochs=1,\n",
    "    shuffle=False\n",
    ")"
   ]
  },
  {
   "cell_type": "code",
   "execution_count": 451,
   "metadata": {},
   "outputs": [
    {
     "data": {
      "text/plain": [
       "<function tensorflow.python.estimator.inputs.numpy_io.numpy_input_fn.<locals>.input_fn>"
      ]
     },
     "execution_count": 451,
     "metadata": {},
     "output_type": "execute_result"
    }
   ],
   "source": [
    "train_input_fn"
   ]
  },
  {
   "cell_type": "code",
   "execution_count": 452,
   "metadata": {},
   "outputs": [
    {
     "data": {
      "text/plain": [
       "({'x': <tf.Tensor 'fifo_queue_DequeueUpTo_10:1' shape=(?, 300, 6) dtype=float64>},\n <tf.Tensor 'fifo_queue_DequeueUpTo_10:2' shape=(?,) dtype=float64>)"
      ]
     },
     "execution_count": 452,
     "metadata": {},
     "output_type": "execute_result"
    }
   ],
   "source": [
    "train_input_fn()"
   ]
  },
  {
   "cell_type": "code",
   "execution_count": 453,
   "metadata": {},
   "outputs": [],
   "source": [
    "test_input_fn = tf.estimator.inputs.numpy_input_fn(\n",
    "    x={\"x\": x_test},\n",
    "    y=np.array(y_test),\n",
    "    num_epochs=1,\n",
    "    shuffle=False\n",
    ")"
   ]
  },
  {
   "cell_type": "code",
   "execution_count": 454,
   "metadata": {},
   "outputs": [],
   "source": [
    "some_gesture =x_test[0:9]\n",
    "predict_input_fn = tf.estimator.inputs.numpy_input_fn(\n",
    "    x={\"x\": some_gesture},\n",
    "    num_epochs=1,\n",
    "    shuffle=False\n",
    ")"
   ]
  },
  {
   "cell_type": "code",
   "execution_count": 455,
   "metadata": {},
   "outputs": [],
   "source": [
    "some_gesture_labels = y_test[0:9]"
   ]
  },
  {
   "cell_type": "code",
   "execution_count": 456,
   "metadata": {},
   "outputs": [],
   "source": [
    "features_x = tf.feature_column.numeric_column(key=\"x\", shape=(300, col_numbers))\n",
    "feature_columns = [features_x]"
   ]
  },
  {
   "cell_type": "code",
   "execution_count": 457,
   "metadata": {},
   "outputs": [],
   "source": [
    "# IGNORE FOR NOW\n",
    "# this model is using essentially 1 giant feature (posX, posY, posZ)\n",
    "\n",
    "#keys = ['posX', 'posY', 'posZ']\n",
    "#feature_columns = list()\n",
    "#for k in keys:\n",
    "#    feature_columns.append(tf.feature_column.numeric_column(key=k))\n",
    "\n",
    "\n",
    "#feature_columns[0]"
   ]
  },
  {
   "cell_type": "code",
   "execution_count": 458,
   "metadata": {},
   "outputs": [],
   "source": [
    "num_hidden_units = [512, 256, 128]"
   ]
  },
  {
   "cell_type": "code",
   "execution_count": 459,
   "metadata": {},
   "outputs": [
    {
     "name": "stdout",
     "output_type": "stream",
     "text": [
      "INFO:tensorflow:Using default config.\n"
     ]
    },
    {
     "name": "stdout",
     "output_type": "stream",
     "text": [
      "INFO:tensorflow:Using config: {'_cluster_spec': <tensorflow.python.training.server_lib.ClusterSpec object at 0x0000026E34799780>, '_save_checkpoints_secs': 600, '_task_type': 'worker', '_is_chief': True, '_keep_checkpoint_max': 5, '_train_distribute': None, '_evaluation_master': '', '_service': None, '_log_step_count_steps': 100, '_save_checkpoints_steps': None, '_device_fn': None, '_task_id': 0, '_global_id_in_cluster': 0, '_save_summary_steps': 100, '_master': '', '_num_worker_replicas': 1, '_tf_random_seed': None, '_session_config': None, '_num_ps_replicas': 0, '_keep_checkpoint_every_n_hours': 10000, '_model_dir': './6_col_checkpoints/'}\n"
     ]
    }
   ],
   "source": [
    "model = tf.estimator.DNNClassifier(feature_columns=feature_columns,\n",
    "                                   hidden_units=num_hidden_units,\n",
    "                                   activation_fn=tf.nn.relu,\n",
    "                                   n_classes=2,\n",
    "                                   model_dir=savd_model)"
   ]
  },
  {
   "cell_type": "code",
   "execution_count": 460,
   "metadata": {
    "collapsed": false
   },
   "outputs": [
    {
     "name": "stdout",
     "output_type": "stream",
     "text": [
      "INFO:tensorflow:Calling model_fn.\n"
     ]
    },
    {
     "name": "stdout",
     "output_type": "stream",
     "text": [
      "INFO:tensorflow:Done calling model_fn.\n"
     ]
    },
    {
     "name": "stdout",
     "output_type": "stream",
     "text": [
      "INFO:tensorflow:Create CheckpointSaverHook.\n"
     ]
    },
    {
     "name": "stdout",
     "output_type": "stream",
     "text": [
      "INFO:tensorflow:Graph was finalized.\n"
     ]
    },
    {
     "name": "stdout",
     "output_type": "stream",
     "text": [
      "INFO:tensorflow:Restoring parameters from ./6_col_checkpoints/model.ckpt-4\n"
     ]
    },
    {
     "name": "stdout",
     "output_type": "stream",
     "text": [
      "INFO:tensorflow:Running local_init_op.\n"
     ]
    },
    {
     "name": "stdout",
     "output_type": "stream",
     "text": [
      "INFO:tensorflow:Done running local_init_op.\n"
     ]
    },
    {
     "name": "stdout",
     "output_type": "stream",
     "text": [
      "INFO:tensorflow:Saving checkpoints for 4 into ./6_col_checkpoints/model.ckpt.\n"
     ]
    },
    {
     "name": "stdout",
     "output_type": "stream",
     "text": [
      "INFO:tensorflow:loss = 61.262955, step = 5\n"
     ]
    },
    {
     "name": "stdout",
     "output_type": "stream",
     "text": [
      "INFO:tensorflow:Saving checkpoints for 8 into ./6_col_checkpoints/model.ckpt.\n"
     ]
    },
    {
     "name": "stdout",
     "output_type": "stream",
     "text": [
      "INFO:tensorflow:Loss for final step: 26.504456.\n"
     ]
    },
    {
     "data": {
      "text/plain": [
       "<tensorflow.python.estimator.canned.dnn.DNNClassifier at 0x26e34799240>"
      ]
     },
     "execution_count": 460,
     "metadata": {},
     "output_type": "execute_result"
    }
   ],
   "source": [
    "model.train(input_fn=train_input_fn, steps=2000)"
   ]
  },
  {
   "cell_type": "code",
   "execution_count": 461,
   "metadata": {},
   "outputs": [
    {
     "name": "stdout",
     "output_type": "stream",
     "text": [
      "INFO:tensorflow:Calling model_fn.\n"
     ]
    },
    {
     "name": "stdout",
     "output_type": "stream",
     "text": [
      "WARNING:tensorflow:Trapezoidal rule is known to produce incorrect PR-AUCs; please switch to \"careful_interpolation\" instead.\n"
     ]
    },
    {
     "name": "stdout",
     "output_type": "stream",
     "text": [
      "WARNING:tensorflow:Trapezoidal rule is known to produce incorrect PR-AUCs; please switch to \"careful_interpolation\" instead.\n"
     ]
    },
    {
     "name": "stdout",
     "output_type": "stream",
     "text": [
      "INFO:tensorflow:Done calling model_fn."
     ]
    },
    {
     "name": "stdout",
     "output_type": "stream",
     "text": [
      "\n"
     ]
    },
    {
     "name": "stdout",
     "output_type": "stream",
     "text": [
      "INFO:tensorflow:Starting evaluation at 2018-11-12-02:16:12\n"
     ]
    },
    {
     "name": "stdout",
     "output_type": "stream",
     "text": [
      "INFO:tensorflow:Graph was finalized.\n"
     ]
    },
    {
     "name": "stdout",
     "output_type": "stream",
     "text": [
      "INFO:tensorflow:Restoring parameters from ./6_col_checkpoints/model.ckpt-8\n"
     ]
    },
    {
     "name": "stdout",
     "output_type": "stream",
     "text": [
      "INFO:tensorflow:Running local_init_op.\n"
     ]
    },
    {
     "name": "stdout",
     "output_type": "stream",
     "text": [
      "INFO:tensorflow:Done running local_init_op.\n"
     ]
    },
    {
     "name": "stdout",
     "output_type": "stream",
     "text": [
      "INFO:tensorflow:Finished evaluation at 2018-11-12-02:16:13\n"
     ]
    },
    {
     "name": "stdout",
     "output_type": "stream",
     "text": [
      "INFO:tensorflow:Saving dict for global step 8: accuracy = 0.76785713, accuracy_baseline = 0.55357146, auc = 0.97709674, auc_precision_recall = 0.9760859, average_loss = 0.4094889, global_step = 8, label/mean = 0.44642857, loss = 45.862755, precision = 0.6621622, prediction/mean = 0.60119015, recall = 0.98\n"
     ]
    },
    {
     "name": "stdout",
     "output_type": "stream",
     "text": [
      "INFO:tensorflow:Saving 'checkpoint_path' summary for global step 8: ./6_col_checkpoints/model.ckpt-8\n"
     ]
    }
   ],
   "source": [
    "result = model.evaluate(input_fn=test_input_fn)"
   ]
  },
  {
   "cell_type": "code",
   "execution_count": 462,
   "metadata": {},
   "outputs": [
    {
     "data": {
      "text/plain": [
       "{'accuracy': 0.76785713,\n 'accuracy_baseline': 0.55357146,\n 'auc': 0.97709674,\n 'auc_precision_recall': 0.9760859,\n 'average_loss': 0.4094889,\n 'global_step': 8,\n 'label/mean': 0.44642857,\n 'loss': 45.862755,\n 'precision': 0.6621622,\n 'prediction/mean': 0.60119015,\n 'recall': 0.98}"
      ]
     },
     "execution_count": 462,
     "metadata": {},
     "output_type": "execute_result"
    }
   ],
   "source": [
    "result"
   ]
  },
  {
   "cell_type": "code",
   "execution_count": 463,
   "metadata": {},
   "outputs": [
    {
     "name": "stdout",
     "output_type": "stream",
     "text": [
      "Classification Accuracy for data set (posX, posY, posZ): 76.79%\n"
     ]
    }
   ],
   "source": [
    "print(\"Classification Accuracy for data set (posX, posY, posZ): \"\n",
    "      \"{0:.2%}\".format(result[\"accuracy\"]))"
   ]
  },
  {
   "cell_type": "code",
   "execution_count": 464,
   "metadata": {},
   "outputs": [],
   "source": [
    "# predictions!\n",
    "\n",
    "predictions = model.predict(input_fn=predict_input_fn)\n"
   ]
  },
  {
   "cell_type": "code",
   "execution_count": 465,
   "metadata": {},
   "outputs": [
    {
     "name": "stdout",
     "output_type": "stream",
     "text": [
      "INFO:tensorflow:Calling model_fn.\n"
     ]
    },
    {
     "name": "stdout",
     "output_type": "stream",
     "text": [
      "INFO:tensorflow:Done calling model_fn.\n"
     ]
    },
    {
     "name": "stdout",
     "output_type": "stream",
     "text": [
      "INFO:tensorflow:Graph was finalized.\n"
     ]
    },
    {
     "name": "stdout",
     "output_type": "stream",
     "text": [
      "INFO:tensorflow:Restoring parameters from ./6_col_checkpoints/model.ckpt-8\n"
     ]
    },
    {
     "name": "stdout",
     "output_type": "stream",
     "text": [
      "INFO:tensorflow:Running local_init_op.\n"
     ]
    },
    {
     "name": "stdout",
     "output_type": "stream",
     "text": [
      "INFO:tensorflow:Done running local_init_op.\n"
     ]
    },
    {
     "data": {
      "text/plain": [
       "[array([b'1'], dtype=object),\n array([b'1'], dtype=object),\n array([b'1'], dtype=object),\n array([b'1'], dtype=object),\n array([b'1'], dtype=object),\n array([b'0'], dtype=object),\n array([b'0'], dtype=object),\n array([b'1'], dtype=object),\n array([b'0'], dtype=object)]"
      ]
     },
     "execution_count": 465,
     "metadata": {},
     "output_type": "execute_result"
    }
   ],
   "source": [
    "cls = [p['classes'] for p in predictions]\n",
    "cls"
   ]
  },
  {
   "cell_type": "code",
   "execution_count": 466,
   "metadata": {},
   "outputs": [
    {
     "data": {
      "text/plain": [
       "array([1, 1, 1, 1, 1, 0, 0, 1, 0])"
      ]
     },
     "execution_count": 466,
     "metadata": {},
     "output_type": "execute_result"
    }
   ],
   "source": [
    "cls_pred = np.array(cls, dtype='int').squeeze()\n",
    "cls_pred"
   ]
  },
  {
   "cell_type": "code",
   "execution_count": 438,
   "metadata": {
    "collapsed": false
   },
   "outputs": [
    {
     "name": "stdout",
     "output_type": "stream",
     "text": [
      "the prediction is: \t [1 1 0 1 1 0 0 1 0]\nthe actual is: \t\t  [1. 1. 0. 0. 1. 0. 0. 1. 0.]\n"
     ]
    }
   ],
   "source": [
    "some_gesture  # gestures to be predicted\n",
    "print(\"the prediction is: \\t\",cls_pred)      # predicted gestures\n",
    "print(\"the actual is: \\t\\t \",y_test[0:9])"
   ]
  },
  {
   "cell_type": "code",
   "execution_count": 439,
   "metadata": {},
   "outputs": [],
   "source": [
    "# FINISHED!"
   ]
  },
  {
   "cell_type": "code",
   "execution_count": null,
   "metadata": {},
   "outputs": [],
   "source": []
  }
 ],
 "metadata": {
  "kernelspec": {
   "display_name": "Python 3",
   "language": "python",
   "name": "python3"
  },
  "language_info": {
   "codemirror_mode": {
    "name": "ipython",
    "version": 3
   },
   "file_extension": ".py",
   "mimetype": "text/x-python",
   "name": "python",
   "nbconvert_exporter": "python",
   "pygments_lexer": "ipython3",
   "version": "3.5.6"
  }
 },
 "nbformat": 4,
 "nbformat_minor": 1
}
