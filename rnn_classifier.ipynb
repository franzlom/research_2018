{
 "cells": [
  {
   "cell_type": "code",
   "execution_count": 795,
   "metadata": {},
   "outputs": [],
   "source": [
    "from IPython.display import Image\n",
    "from IPython.core.display import HTML \n",
    "#from __future__ import print_func  tion, division\n",
    "import numpy as np\n",
    "import tensorflow as tf\n",
    "import matplotlib.pyplot as plt\n",
    "import pandas as pd\n",
    "import json\n",
    "from sklearn.model_selection import train_test_split\n",
    "Image(url= \"https://cdn-images-1.medium.com/max/1600/1*UkI9za9zTR-HL8uM15Wmzw.png\")\n",
    "\n",
    "pd.set_option('display.max_columns', 20)\n",
    "pd.set_option('display.max_rows', 500)\n",
    "pd.set_option('display.width', 500)\n"
   ]
  },
  {
   "cell_type": "code",
   "execution_count": 796,
   "metadata": {},
   "outputs": [
    {
     "data": {
      "text/plain": [
       "'1.9.0'"
      ]
     },
     "execution_count": 796,
     "metadata": {},
     "output_type": "execute_result"
    }
   ],
   "source": [
    "# made in 1.9.0\n",
    "tf.__version__"
   ]
  },
  {
   "cell_type": "code",
   "execution_count": 825,
   "metadata": {},
   "outputs": [],
   "source": [
    "# the columns use for predictions\n",
    "# NOTE:\n",
    "# When adding more features\n",
    "# make sure make the model in a differnt path because it screws with the checkpoints\n",
    "saved_model = \"./6_col_5_gesture_checkpoints_1/\"\n",
    "features = ['posX', 'posY', 'posZ', 'velX', 'velY', 'velZ']\n",
    "col_numbers = len(features)\n"
   ]
  },
  {
   "cell_type": "code",
   "execution_count": 798,
   "metadata": {},
   "outputs": [],
   "source": [
    ""
   ]
  },
  {
   "cell_type": "code",
   "execution_count": 799,
   "metadata": {
    "collapsed": false
   },
   "outputs": [
    {
     "data": {
      "text/plain": [
       "['tester',\n 'trial',\n 'rightHanded',\n 'timestamp',\n 'posX',\n 'posY',\n 'posZ',\n 'posRelX',\n 'posRelY',\n 'posRelZ',\n 'velX',\n 'velY',\n 'velZ',\n 'quatW',\n 'quatX',\n 'quatY',\n 'quatZ',\n 'accRelX',\n 'accRelY',\n 'accRelZ',\n 'accAbsX',\n 'accAbsY',\n 'accAbsZ']"
      ]
     },
     "execution_count": 799,
     "metadata": {},
     "output_type": "execute_result"
    }
   ],
   "source": [
    "# copying the dataframe so I have a before and after\n",
    "df_cir_hor_cclk_shape = pd.read_csv('./Data/extracted_data/cir_hor_cclk.csv') # saving circle horizontal counter clockwise csv as df\n",
    "df_v_shape = pd.read_csv('./Data/extracted_data/v_shape.csv')\n",
    "df_x_shape = pd.read_csv('./Data/extracted_data/x_shape.csv')\n",
    "df_twist_cclk_shape = pd.read_csv('./Data/extracted_data/twist_cclk.csv')\n",
    "df_cir_ver_cclk_shape = pd.read_csv('./Data/extracted_data/cir_ver_cclk.csv')\n",
    "\n",
    "df_cir_cclk = df_cir_hor_cclk_shape.copy()\n",
    "df_v = df_v_shape.copy()\n",
    "df_x = df_x_shape.copy()\n",
    "df_twist_cclk = df_twist_cclk_shape.copy()\n",
    "df_cir_ver_cclk = df_cir_ver_cclk_shape.copy()\n",
    "\n",
    "number_classes = 5  # this is the value of gestures to be recognised // the number of dataframe being constructed\n",
    "\n",
    "# to see all the headers/columns of the dataframe\n",
    "# every column can be used as a feature data set except for tester and trial\n",
    "# which are markings cut off points in the data\n",
    "list(df_cir_cclk)\n",
    "\n",
    "\n"
   ]
  },
  {
   "cell_type": "code",
   "execution_count": 801,
   "metadata": {},
   "outputs": [],
   "source": [
    "def pad_features(not_pad_features):\n",
    "    \"\"\"\n",
    "    A function that returns a padded array with a size 300\n",
    "    :param not_pad_features: \n",
    "    :return: an np.array of padded vector with the length of  300 \n",
    "    \"\"\"\n",
    "    \n",
    "    list_pad_vec = list()\n",
    "    feature_len = [len(s) for s in not_pad_features]\n",
    "    if max(feature_len) > 300:\n",
    "        raise Exception('the longest stroke is greater than 300. len: [}'\n",
    "                        .format(max(feature_len)))\n",
    "    padding = np.zeros((300, col_numbers))\n",
    "    \n",
    "    for x in not_pad_features:\n",
    "        padding[:x.shape[0], :x.shape[1]] = x \n",
    "        list_pad_vec.append(padding)\n",
    "        padding = np.zeros((300, col_numbers))\n",
    "        \n",
    "    return(np.array(list_pad_vec))"
   ]
  },
  {
   "cell_type": "code",
   "execution_count": 802,
   "metadata": {},
   "outputs": [],
   "source": [
    "def group_drawn_shape(grouped):\n",
    "    \"\"\"\n",
    "    \n",
    "    :param grouped: grouped value from the dataframe, ['trial'. 'tester']\n",
    "    :return: np.array of grouped vectors\n",
    "    \"\"\"\n",
    "    source = [x for x in grouped]\n",
    "    list_vec = list()\n",
    "    for v in source:\n",
    "        df = v[1]\n",
    "        df = df[features]\n",
    "        x = df.values\n",
    "        list_vec.append(x)\n",
    "    return np.array(list_vec)"
   ]
  },
  {
   "cell_type": "code",
   "execution_count": 803,
   "metadata": {
    "collapsed": false
   },
   "outputs": [],
   "source": [
    "# group data using trial and tester\n",
    "cir_cclk_features = group_drawn_shape(df_cir_cclk.groupby(['trial', 'tester']))\n",
    "v_features = group_drawn_shape(df_v.groupby(['trial', 'tester']))\n",
    "x_shape_features = group_drawn_shape(df_x.groupby(['trial', 'tester']))\n",
    "twist_cclk_features = group_drawn_shape(df_twist_cclk.groupby(['trial', 'tester']))\n",
    "cir_ver_cclk_features = group_drawn_shape(df_cir_ver_cclk.groupby(['trial', 'tester']))\n",
    "\n",
    "\n",
    "# pad the feautre columns with a max height/row of 300 with zeros\n",
    "pad_cir_cclk_features = pad_features(cir_cclk_features)\n",
    "pad_v_features = pad_features(v_features)\n",
    "pad_x_features = pad_features(x_shape_features)\n",
    "pad_cclk_twist = pad_features(twist_cclk_features)\n",
    "pad_cir_ver_cclk = pad_features(cir_ver_cclk_features)"
   ]
  },
  {
   "cell_type": "code",
   "execution_count": 804,
   "metadata": {
    "collapsed": true
   },
   "outputs": [],
   "source": [
    "\n"
   ]
  },
  {
   "cell_type": "code",
   "execution_count": 805,
   "metadata": {
    "collapsed": true
   },
   "outputs": [
    {
     "name": "stdout",
     "output_type": "stream",
     "text": [
      "ccl horizontal features shape: \t (280, 300, 6)\nv features shape: \t \t (280, 300, 6)\nx features shape: \t \t (280, 300, 6)\ncclk twist features shape: \t \t (281, 300, 6)\ncircle vertical cclk shape: \t \t (281, 300, 6)\n"
     ]
    },
    {
     "data": {
      "text/plain": [
       "(1402, 300, 6)"
      ]
     },
     "execution_count": 805,
     "metadata": {},
     "output_type": "execute_result"
    }
   ],
   "source": [
    "print(\"ccl horizontal features shape: \\t\", pad_cir_cclk_features.shape)\n",
    "print(\"v features shape: \\t \\t\", pad_v_features.shape)\n",
    "print(\"x features shape: \\t \\t\", pad_x_features.shape)\n",
    "print(\"cclk twist features shape: \\t \\t\", pad_cclk_twist.shape)\n",
    "print(\"circle vertical cclk shape: \\t \\t\", pad_cir_ver_cclk.shape)\n",
    "\n",
    "#combine the padded data so we have one data to work with\n",
    "data = np.vstack((pad_cir_cclk_features, pad_v_features))\n",
    "data = np.vstack((data, pad_x_features))\n",
    "data = np.vstack((data, pad_cclk_twist))\n",
    "data = np.vstack((data,pad_cir_ver_cclk))\n",
    "data.shape\n",
    "\n"
   ]
  },
  {
   "cell_type": "code",
   "execution_count": 812,
   "metadata": {},
   "outputs": [
    {
     "name": "stdout",
     "output_type": "stream",
     "text": [
      "(1402,)\n[0. 0. 0. 0. 0. 1. 1. 1. 1. 1.]\n[1. 1. 1. 1. 1. 2. 2. 2. 2. 2.]\n[2. 2. 2. 2. 2. 3. 3. 3. 3. 3.]\n[3. 3. 3. 3. 3. 4. 4. 4. 4. 4.]\n"
     ]
    }
   ],
   "source": [
    "horizontal_circle_label = np.zeros(280)\n",
    "v_shape_label = np.zeros(280)\n",
    "x_shape_label = np.zeros(280)\n",
    "twist_cclk_label = np.zeros(281)\n",
    "cir_ver_cclk_label = np.zeros(281)\n",
    "\n",
    "v_shape_label[:] = 1\n",
    "x_shape_label[:] = 2\n",
    "twist_cclk_label[:] = 3\n",
    "cir_ver_cclk_label[:] = 4\n",
    "\n",
    "labels = np.concatenate([horizontal_circle_label, v_shape_label])\n",
    "labels = np.concatenate([labels, x_shape_label])\n",
    "labels = np.concatenate([labels, twist_cclk_label])\n",
    "labels = np.concatenate([labels, cir_ver_cclk_label])\n",
    "\n",
    "print(labels.shape)\n",
    "print(labels[275:285])\n",
    "print(labels[555:565])\n",
    "print(labels[835:845])\n",
    "print(labels[1116:1126])\n",
    "\n"
   ]
  },
  {
   "cell_type": "code",
   "execution_count": 813,
   "metadata": {
    "collapsed": true
   },
   "outputs": [
    {
     "name": "stdout",
     "output_type": "stream",
     "text": [
      "(1261, 300, 6)\n(1261,)\n"
     ]
    }
   ],
   "source": [
    "# split the data to training training and testing data.\n",
    "# x = features\n",
    "# y = labels\n",
    "x_train, x_test, y_train, y_test = train_test_split(\n",
    "    data, labels, test_size=0.10, random_state=42)\n",
    "\n",
    "print(x_train.shape)\n",
    "print(y_train.shape)"
   ]
  },
  {
   "cell_type": "code",
   "execution_count": 814,
   "metadata": {},
   "outputs": [],
   "source": [
    "train_input_fn = tf.estimator.inputs.numpy_input_fn(\n",
    "    x = {\"x\": x_train},\n",
    "    y = np.int32(y_train),\n",
    "    num_epochs=1,\n",
    "    shuffle=False\n",
    ")"
   ]
  },
  {
   "cell_type": "code",
   "execution_count": 815,
   "metadata": {},
   "outputs": [
    {
     "data": {
      "text/plain": [
       "<function tensorflow.python.estimator.inputs.numpy_io.numpy_input_fn.<locals>.input_fn>"
      ]
     },
     "execution_count": 815,
     "metadata": {},
     "output_type": "execute_result"
    }
   ],
   "source": [
    "train_input_fn"
   ]
  },
  {
   "cell_type": "code",
   "execution_count": 816,
   "metadata": {},
   "outputs": [
    {
     "data": {
      "text/plain": [
       "({'x': <tf.Tensor 'fifo_queue_DequeueUpTo_17:1' shape=(?, 300, 6) dtype=float64>},\n <tf.Tensor 'fifo_queue_DequeueUpTo_17:2' shape=(?,) dtype=int32>)"
      ]
     },
     "execution_count": 816,
     "metadata": {},
     "output_type": "execute_result"
    }
   ],
   "source": [
    "train_input_fn()"
   ]
  },
  {
   "cell_type": "code",
   "execution_count": 839,
   "metadata": {},
   "outputs": [],
   "source": [
    "test_input_fn = tf.estimator.inputs.numpy_input_fn(\n",
    "    x={\"x\": x_test},\n",
    "    y=np.int32(y_test),\n",
    "    num_epochs=25,\n",
    "    shuffle=False\n",
    ")"
   ]
  },
  {
   "cell_type": "code",
   "execution_count": 840,
   "metadata": {},
   "outputs": [],
   "source": [
    "some_gesture =x_test[0:20]\n",
    "predict_input_fn = tf.estimator.inputs.numpy_input_fn(\n",
    "    x={\"x\": some_gesture},\n",
    "    num_epochs=1,\n",
    "    shuffle=False\n",
    ")"
   ]
  },
  {
   "cell_type": "code",
   "execution_count": 841,
   "metadata": {},
   "outputs": [],
   "source": [
    "some_gesture_labels = y_test[0:20]"
   ]
  },
  {
   "cell_type": "code",
   "execution_count": 842,
   "metadata": {},
   "outputs": [],
   "source": [
    "# slices the gesture features of height of 300 and col_numbers \n",
    "features_x = tf.feature_column.numeric_column(key=\"x\", shape=(300, col_numbers))\n",
    "feature_columns = [features_x]"
   ]
  },
  {
   "cell_type": "code",
   "execution_count": 844,
   "metadata": {},
   "outputs": [],
   "source": [
    "# IGNORE FOR NOW\n",
    "# this model is using essentially 1 giant feature (posX, posY, posZ)\n",
    "\n",
    "#keys = ['posX', 'posY', 'posZ']\n",
    "#feature_columns = list()\n",
    "#for k in keys:\n",
    "#    feature_columns.append(tf.feature_column.numeric_column(key=k))\n",
    "\n",
    "\n",
    "#feature_columns[0]"
   ]
  },
  {
   "cell_type": "code",
   "execution_count": 845,
   "metadata": {},
   "outputs": [],
   "source": [
    "num_hidden_units = [512, 256, 128]"
   ]
  },
  {
   "cell_type": "code",
   "execution_count": 846,
   "metadata": {},
   "outputs": [
    {
     "name": "stdout",
     "output_type": "stream",
     "text": [
      "INFO:tensorflow:Using default config.\n"
     ]
    },
    {
     "name": "stdout",
     "output_type": "stream",
     "text": [
      "INFO:tensorflow:Using config: {'_cluster_spec': <tensorflow.python.training.server_lib.ClusterSpec object at 0x0000026E36C25400>, '_save_checkpoints_secs': 600, '_task_type': 'worker', '_is_chief': True, '_keep_checkpoint_max': 5, '_train_distribute': None, '_evaluation_master': '', '_service': None, '_log_step_count_steps': 100, '_save_checkpoints_steps': None, '_device_fn': None, '_task_id': 0, '_global_id_in_cluster': 0, '_save_summary_steps': 100, '_master': '', '_num_worker_replicas': 1, '_tf_random_seed': None, '_session_config': None, '_num_ps_replicas': 0, '_keep_checkpoint_every_n_hours': 10000, '_model_dir': './6_col_5_gesture_checkpoints_1/'}\n"
     ]
    }
   ],
   "source": [
    "model = tf.estimator.DNNClassifier(feature_columns=feature_columns,\n",
    "                                   hidden_units=num_hidden_units,\n",
    "                                   activation_fn=tf.nn.relu,\n",
    "                                   n_classes=number_classes,\n",
    "                                   model_dir=saved_model)"
   ]
  },
  {
   "cell_type": "code",
   "execution_count": 847,
   "metadata": {
    "collapsed": false
   },
   "outputs": [
    {
     "name": "stdout",
     "output_type": "stream",
     "text": [
      "INFO:tensorflow:Calling model_fn.\n"
     ]
    },
    {
     "name": "stdout",
     "output_type": "stream",
     "text": [
      "INFO:tensorflow:Done calling model_fn.\n"
     ]
    },
    {
     "name": "stdout",
     "output_type": "stream",
     "text": [
      "INFO:tensorflow:Create CheckpointSaverHook.\n"
     ]
    },
    {
     "name": "stdout",
     "output_type": "stream",
     "text": [
      "INFO:tensorflow:Graph was finalized.\n"
     ]
    },
    {
     "name": "stdout",
     "output_type": "stream",
     "text": [
      "INFO:tensorflow:Restoring parameters from ./6_col_5_gesture_checkpoints_1/model.ckpt-10\n"
     ]
    },
    {
     "name": "stdout",
     "output_type": "stream",
     "text": [
      "INFO:tensorflow:Running local_init_op.\n"
     ]
    },
    {
     "name": "stdout",
     "output_type": "stream",
     "text": [
      "INFO:tensorflow:Done running local_init_op.\n"
     ]
    },
    {
     "name": "stdout",
     "output_type": "stream",
     "text": [
      "INFO:tensorflow:Saving checkpoints for 10 into ./6_col_5_gesture_checkpoints_1/model.ckpt.\n"
     ]
    },
    {
     "name": "stdout",
     "output_type": "stream",
     "text": [
      "INFO:tensorflow:loss = 119.371346, step = 11\n"
     ]
    },
    {
     "name": "stdout",
     "output_type": "stream",
     "text": [
      "INFO:tensorflow:Saving checkpoints for 20 into ./6_col_5_gesture_checkpoints_1/model.ckpt.\n"
     ]
    },
    {
     "name": "stdout",
     "output_type": "stream",
     "text": [
      "INFO:tensorflow:Loss for final step: 37.526356.\n"
     ]
    },
    {
     "data": {
      "text/plain": [
       "<tensorflow.python.estimator.canned.dnn.DNNClassifier at 0x26e31a0f1d0>"
      ]
     },
     "execution_count": 847,
     "metadata": {},
     "output_type": "execute_result"
    }
   ],
   "source": [
    "model.train(input_fn=train_input_fn, steps=2000)"
   ]
  },
  {
   "cell_type": "code",
   "execution_count": 848,
   "metadata": {},
   "outputs": [
    {
     "name": "stdout",
     "output_type": "stream",
     "text": [
      "INFO:tensorflow:Calling model_fn.\n"
     ]
    },
    {
     "name": "stdout",
     "output_type": "stream",
     "text": [
      "INFO:tensorflow:Done calling model_fn.\n"
     ]
    },
    {
     "name": "stdout",
     "output_type": "stream",
     "text": [
      "INFO:tensorflow:Starting evaluation at 2018-11-13-03:11:00\n"
     ]
    },
    {
     "name": "stdout",
     "output_type": "stream",
     "text": [
      "INFO:tensorflow:Graph was finalized.\n"
     ]
    },
    {
     "name": "stdout",
     "output_type": "stream",
     "text": [
      "INFO:tensorflow:Restoring parameters from ./6_col_5_gesture_checkpoints_1/model.ckpt-20\n"
     ]
    },
    {
     "name": "stdout",
     "output_type": "stream",
     "text": [
      "INFO:tensorflow:Running local_init_op.\n"
     ]
    },
    {
     "name": "stdout",
     "output_type": "stream",
     "text": [
      "INFO:tensorflow:Done running local_init_op.\n"
     ]
    },
    {
     "name": "stdout",
     "output_type": "stream",
     "text": [
      "INFO:tensorflow:Finished evaluation at 2018-11-13-03:11:01\n"
     ]
    },
    {
     "name": "stdout",
     "output_type": "stream",
     "text": [
      "INFO:tensorflow:Saving dict for global step 20: accuracy = 0.9007092, average_loss = 0.38165295, global_step = 20, loss = 48.047382\n"
     ]
    },
    {
     "name": "stdout",
     "output_type": "stream",
     "text": [
      "INFO:tensorflow:Saving 'checkpoint_path' summary for global step 20: ./6_col_5_gesture_checkpoints_1/model.ckpt-20\n"
     ]
    }
   ],
   "source": [
    "result = model.evaluate(input_fn=test_input_fn)"
   ]
  },
  {
   "cell_type": "code",
   "execution_count": 849,
   "metadata": {},
   "outputs": [
    {
     "data": {
      "text/plain": [
       "{'accuracy': 0.9007092,\n 'average_loss': 0.38165295,\n 'global_step': 20,\n 'loss': 48.047382}"
      ]
     },
     "execution_count": 849,
     "metadata": {},
     "output_type": "execute_result"
    }
   ],
   "source": [
    "result"
   ]
  },
  {
   "cell_type": "code",
   "execution_count": 850,
   "metadata": {},
   "outputs": [
    {
     "name": "stdout",
     "output_type": "stream",
     "text": [
      "Classification Accuracy for data set (posX, posY, posZ): 90.07%\n"
     ]
    }
   ],
   "source": [
    "print(\"Classification Accuracy for data set (posX, posY, posZ): \"\n",
    "      \"{0:.2%}\".format(result[\"accuracy\"]))"
   ]
  },
  {
   "cell_type": "code",
   "execution_count": 852,
   "metadata": {},
   "outputs": [],
   "source": [
    "# predictions!\n",
    "\n",
    "predictions = model.predict(input_fn=predict_input_fn)\n"
   ]
  },
  {
   "cell_type": "code",
   "execution_count": 853,
   "metadata": {
    "collapsed": true
   },
   "outputs": [
    {
     "name": "stdout",
     "output_type": "stream",
     "text": [
      "INFO:tensorflow:Calling model_fn.\n"
     ]
    },
    {
     "name": "stdout",
     "output_type": "stream",
     "text": [
      "INFO:tensorflow:Done calling model_fn.\n"
     ]
    },
    {
     "name": "stdout",
     "output_type": "stream",
     "text": [
      "INFO:tensorflow:Graph was finalized.\n"
     ]
    },
    {
     "name": "stdout",
     "output_type": "stream",
     "text": [
      "INFO:tensorflow:Restoring parameters from ./6_col_5_gesture_checkpoints_1/model.ckpt-20\n"
     ]
    },
    {
     "name": "stdout",
     "output_type": "stream",
     "text": [
      "INFO:tensorflow:Running local_init_op.\n"
     ]
    },
    {
     "name": "stdout",
     "output_type": "stream",
     "text": [
      "INFO:tensorflow:Done running local_init_op.\n"
     ]
    },
    {
     "data": {
      "text/plain": [
       "[array([b'3'], dtype=object),\n array([b'3'], dtype=object),\n array([b'0'], dtype=object),\n array([b'4'], dtype=object),\n array([b'2'], dtype=object),\n array([b'1'], dtype=object),\n array([b'3'], dtype=object),\n array([b'3'], dtype=object),\n array([b'1'], dtype=object),\n array([b'1'], dtype=object),\n array([b'0'], dtype=object),\n array([b'2'], dtype=object),\n array([b'1'], dtype=object),\n array([b'2'], dtype=object),\n array([b'0'], dtype=object),\n array([b'0'], dtype=object),\n array([b'1'], dtype=object),\n array([b'2'], dtype=object),\n array([b'1'], dtype=object),\n array([b'4'], dtype=object)]"
      ]
     },
     "execution_count": 853,
     "metadata": {},
     "output_type": "execute_result"
    }
   ],
   "source": [
    "cls = [p['classes'] for p in predictions]\n",
    "cls"
   ]
  },
  {
   "cell_type": "code",
   "execution_count": 854,
   "metadata": {},
   "outputs": [
    {
     "data": {
      "text/plain": [
       "array([3, 3, 0, 4, 2, 1, 3, 3, 1, 1, 0, 2, 1, 2, 0, 0, 1, 2, 1, 4])"
      ]
     },
     "execution_count": 854,
     "metadata": {},
     "output_type": "execute_result"
    }
   ],
   "source": [
    "cls_pred = np.array(cls, dtype='int').squeeze()\n",
    "cls_pred"
   ]
  },
  {
   "cell_type": "code",
   "execution_count": 855,
   "metadata": {
    "collapsed": false
   },
   "outputs": [
    {
     "name": "stdout",
     "output_type": "stream",
     "text": [
      "the prediction is: \t  [3 3 0 4 2 1 3 3 1 1 0 2 1 2 0 0 1 2 1 4]\nthe actual is: \t\t  [3 3 0 4 2 1 2 3 1 1 0 2 1 2 0 0 2 2 1 4]\n\n\n0: \t Circle Horizontal Counter Clockwise Gesture \n1: \t V Shape Gesture \n2: \t X Shape Gesture \n3: \t Twist Counter Clockwise Gesture \n4: \t Circle Vertical Counter Clockwise \n\n"
     ]
    }
   ],
   "source": [
    "some_gesture  # gestures to be predicted\n",
    "print(\"the prediction is: \\t \",cls_pred)      # predicted gestures\n",
    "print(\"the actual is: \\t\\t \",np.int32(some_gesture_labels))\n",
    "\n",
    "print('\\n')\n",
    "\n",
    "print(\n",
    "    \"0: \\t Circle Horizontal Counter Clockwise Gesture \\n\"\n",
    "    \"1: \\t V Shape Gesture \\n\"\n",
    "    \"2: \\t X Shape Gesture \\n\"\n",
    "    \"3: \\t Twist Counter Clockwise Gesture \\n\"\n",
    "    \"4: \\t Circle Vertical Counter Clockwise \\n\"\n",
    ")"
   ]
  },
  {
   "cell_type": "code",
   "execution_count": 439,
   "metadata": {},
   "outputs": [],
   "source": [
    "# FINISHED!"
   ]
  },
  {
   "cell_type": "code",
   "execution_count": null,
   "metadata": {},
   "outputs": [],
   "source": []
  }
 ],
 "metadata": {
  "kernelspec": {
   "display_name": "Python 3",
   "language": "python",
   "name": "python3"
  },
  "language_info": {
   "codemirror_mode": {
    "name": "ipython",
    "version": 3
   },
   "file_extension": ".py",
   "mimetype": "text/x-python",
   "name": "python",
   "nbconvert_exporter": "python",
   "pygments_lexer": "ipython3",
   "version": "3.5.6"
  }
 },
 "nbformat": 4,
 "nbformat_minor": 1
}
